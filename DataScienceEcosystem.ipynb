{
 "cells": [
  {
   "cell_type": "markdown",
   "id": "3690b2ec-b7f8-4cf4-827d-fae2f9cff7cc",
   "metadata": {},
   "source": [
    "# Data Science Tools and Ecosystem "
   ]
  },
  {
   "cell_type": "markdown",
   "id": "3a2b705c-b1d3-428c-99f5-a5dbaf58b03a",
   "metadata": {},
   "source": [
    "In this notebook, Data Science Tools and Ecosystem are summarized.\n",
    "\n",
    "**Objectives:**\r\n",
    "\r\n",
    "- List popular languages for Data Science  \r\n",
    "- Identify commonly used data science libraries  \r\n",
    "- Understand basic arithmetic operations in Python  \r\n",
    "- Convert units using Python expressions  \r\n",
    "- Create and format tables and headings in Markdown"
   ]
  },
  {
   "cell_type": "markdown",
   "id": "78a586bc-d85e-4c67-afdc-5f17ef9bcc63",
   "metadata": {},
   "source": [
    "Some of the popular languages that Data Scientists use are:"
   ]
  },
  {
   "cell_type": "code",
   "execution_count": 1,
   "id": "1ac38d12-260b-49a5-9e22-43f09c51ff88",
   "metadata": {},
   "outputs": [],
   "source": [
    "languages = [\"Python\", \"R\", \"SQL\"]"
   ]
  },
  {
   "cell_type": "markdown",
   "id": "591f16b9-4136-4305-9a6e-9a8ffcc83290",
   "metadata": {},
   "source": [
    "List of commonly used libraries by Data Scientists\n",
    "\r\n"
   ]
  },
  {
   "cell_type": "code",
   "execution_count": 2,
   "id": "881433fd-6614-4089-8cd2-b2e9c2029157",
   "metadata": {},
   "outputs": [],
   "source": [
    "libraries = [\"NumPy\", \"Pandas\", \"Matplotlib\", \"Scikit-learn\", \"TensorFlow\"]"
   ]
  },
  {
   "cell_type": "markdown",
   "id": "2e2518ae-0017-4bdd-885f-f6d8ab3b3470",
   "metadata": {},
   "source": [
    "| Data Science Tools         |\r\n",
    "|---------------------------|\r\n",
    "| Jupyter Notebook           |\r\n",
    "| RStudio                   |\r\n",
    "| Apache Zeppelin            |"
   ]
  },
  {
   "cell_type": "markdown",
   "id": "37f2138f-bdc7-4694-944f-c73587d3593d",
   "metadata": {},
   "source": [
    "### Below are a few examples of evaluating arithmetic expressions in Python.\r\n"
   ]
  },
  {
   "cell_type": "code",
   "execution_count": 3,
   "id": "3a9650b0-d232-42b4-a2ee-333542515557",
   "metadata": {},
   "outputs": [
    {
     "name": "stdout",
     "output_type": "stream",
     "text": [
      "8\n",
      "6\n",
      "42\n",
      "4.0\n",
      "8\n",
      "1\n",
      "3\n"
     ]
    }
   ],
   "source": [
    "# Addition\n",
    "print(5 + 3) \n",
    "\n",
    "# Subtraction\n",
    "print(10 - 4)  \n",
    "\n",
    "# Multiplication\n",
    "print(7 * 6)  \n",
    "\n",
    "# Division\n",
    "print(20 / 5)  \n",
    "\n",
    "# Exponentiation (power)\n",
    "print(2 ** 3)  \n",
    "\n",
    "# Modulus (remainder)\n",
    "print(10 % 3)  \n",
    "\n",
    "# Floor division\n",
    "print(15 // 4)  "
   ]
  },
  {
   "cell_type": "code",
   "execution_count": 4,
   "id": "fd5e408a-bc78-4b42-8beb-d75538d70939",
   "metadata": {},
   "outputs": [
    {
     "name": "stdout",
     "output_type": "stream",
     "text": [
      "17\n"
     ]
    }
   ],
   "source": [
    "# This is a simple arithmetic expression to multiply then add integers\n",
    "result = (3 * 4) + 5\n",
    "print(result)  # Expected output: 17"
   ]
  },
  {
   "cell_type": "code",
   "execution_count": 5,
   "id": "1ad9be6e-fa30-4d16-b48a-b744cbf79ca9",
   "metadata": {},
   "outputs": [
    {
     "name": "stdout",
     "output_type": "stream",
     "text": [
      "3.3333333333333335\n"
     ]
    }
   ],
   "source": [
    "# This will convert 200 minutes to hours by dividing by 60\n",
    "hours = 200 / 60\n",
    "print(hours)  # Expected output: 3.3333333333333335"
   ]
  },
  {
   "cell_type": "markdown",
   "id": "edddfb3d-6564-44b1-b053-a582143680be",
   "metadata": {},
   "source": [
    "## Author\r\n",
    "Meena Chauhan"
   ]
  },
  {
   "cell_type": "code",
   "execution_count": null,
   "id": "a351ab77-1db9-4fb0-87c8-9e075753b475",
   "metadata": {},
   "outputs": [],
   "source": []
  }
 ],
 "metadata": {
  "kernelspec": {
   "display_name": "anaconda-panel-2023.05-py310",
   "language": "python",
   "name": "conda-env-anaconda-panel-2023.05-py310-py"
  },
  "language_info": {
   "codemirror_mode": {
    "name": "ipython",
    "version": 3
   },
   "file_extension": ".py",
   "mimetype": "text/x-python",
   "name": "python",
   "nbconvert_exporter": "python",
   "pygments_lexer": "ipython3",
   "version": "3.11.5"
  }
 },
 "nbformat": 4,
 "nbformat_minor": 5
}
